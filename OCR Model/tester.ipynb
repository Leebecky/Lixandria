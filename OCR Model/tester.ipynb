{
 "cells": [
  {
   "cell_type": "code",
   "execution_count": 1,
   "metadata": {},
   "outputs": [],
   "source": [
    "import numpy as np"
   ]
  },
  {
   "cell_type": "code",
   "execution_count": 80,
   "metadata": {},
   "outputs": [
    {
     "name": "stdout",
     "output_type": "stream",
     "text": [
      "[[[[148.0, 4.0], [236.0, 12.0], [234.0, 35.0], [146.0, 27.0]], ('PEARSON', 0.9973042607307434)], [[[366.0, 0.0], [482.0, 13.0], [479.0, 38.0], [363.0, 25.0]], ('DETER and the', 0.9326741695404053)], [[[359.0, 26.0], [543.0, 47.0], [540.0, 72.0], [356.0, 51.0]], ('SECRET OF RUNDOON', 0.9010128974914551)]]\n",
      "Output: \n",
      " [[[148.0, 4.0], 'PEARSON'], [[366.0, 0.0], 'DETER and the'], [[359.0, 26.0], 'SECRET OF RUNDOON']]\n",
      "Text:  PEARSON DETER and the SECRET OF RUNDOON\n"
     ]
    }
   ],
   "source": [
    "[arrayVal] =  [[[[[148.0, 4.0], [236.0, 12.0], [234.0, 35.0], [146.0, 27.0]], ('PEARSON', 0.9973042607307434)], [[[366.0, 0.0], [482.0, 13.0], [479.0, 38.0], [363.0, 25.0]], ('DETER and the', 0.9326741695404053)], [[[359.0, 26.0], [543.0, 47.0], [540.0, 72.0], [356.0, 51.0]], ('SECRET OF RUNDOON', 0.9010128974914551)]]]\n",
    "\n",
    "print(arrayVal)\n",
    "extracted_values = []\n",
    "# print(\"Top Left Corner: \", arrayVal[0][0][0])\n",
    "# print(\"OCR Text: \", arrayVal[0][1][0])\n",
    "\n",
    "# Extract Values\n",
    "for i in range(0, len(arrayVal)):\n",
    "    if (arrayVal[i][1][1] >= 0.8): # filter low confidence predictions\n",
    "        extracted_values.append([arrayVal[i][0][0], arrayVal[i][1][0]])\n",
    "\n",
    "\n",
    "extracted_values.sort()\n",
    "\n",
    "new_list = []\n",
    "\n",
    "for i in range(1, len(extracted_values)):\n",
    "    prev = extracted_values[i-1][0]\n",
    "    current = extracted_values[i][0]\n",
    "\n",
    "    if ( prev[0] > current[0]-50):\n",
    "        if (prev[1] > current[1]):\n",
    "            extracted_values[i-1], extracted_values[i] = extracted_values[i], extracted_values[i-1]\n",
    "\n",
    "print(\"Output: \\n\", extracted_values)\n",
    "\n",
    "str_output = \" \".join(text[1] for text in extracted_values)\n",
    "print(\"Text: \", str_output)"
   ]
  },
  {
   "cell_type": "code",
   "execution_count": 75,
   "metadata": {},
   "outputs": [
    {
     "name": "stdout",
     "output_type": "stream",
     "text": [
      "[2023/05/22 15:10:20] ppocr DEBUG: Namespace(help='==SUPPRESS==', use_gpu=False, use_xpu=False, use_npu=False, ir_optim=True, use_tensorrt=False, min_subgraph_size=15, precision='fp32', gpu_mem=500, image_dir=None, page_num=0, det_algorithm='DB', det_model_dir='C:\\\\Users\\\\leebe/.paddleocr/whl\\\\det\\\\en\\\\en_PP-OCRv3_det_infer', det_limit_side_len=960, det_limit_type='max', det_box_type='quad', det_db_thresh=0.3, det_db_box_thresh=0.6, det_db_unclip_ratio=1.5, max_batch_size=10, use_dilation=False, det_db_score_mode='fast', det_east_score_thresh=0.8, det_east_cover_thresh=0.1, det_east_nms_thresh=0.2, det_sast_score_thresh=0.5, det_sast_nms_thresh=0.2, det_pse_thresh=0, det_pse_box_thresh=0.85, det_pse_min_area=16, det_pse_scale=1, scales=[8, 16, 32], alpha=1.0, beta=1.0, fourier_degree=5, rec_algorithm='SVTR_LCNet', rec_model_dir='C:\\\\Users\\\\leebe/.paddleocr/whl\\\\rec\\\\en\\\\en_PP-OCRv3_rec_infer', rec_image_inverse=True, rec_image_shape='3, 48, 320', rec_batch_num=6, max_text_length=25, rec_char_dict_path='c:\\\\Python310\\\\lib\\\\site-packages\\\\paddleocr\\\\ppocr\\\\utils\\\\en_dict.txt', use_space_char=True, vis_font_path='./doc/fonts/simfang.ttf', drop_score=0.5, e2e_algorithm='PGNet', e2e_model_dir=None, e2e_limit_side_len=768, e2e_limit_type='max', e2e_pgnet_score_thresh=0.5, e2e_char_dict_path='./ppocr/utils/ic15_dict.txt', e2e_pgnet_valid_set='totaltext', e2e_pgnet_mode='fast', use_angle_cls=True, cls_model_dir='C:\\\\Users\\\\leebe/.paddleocr/whl\\\\cls\\\\ch_ppocr_mobile_v2.0_cls_infer', cls_image_shape='3, 48, 192', label_list=['0', '180'], cls_batch_num=6, cls_thresh=0.9, enable_mkldnn=False, cpu_threads=10, use_pdserving=False, warmup=False, sr_model_dir=None, sr_image_shape='3, 32, 128', sr_batch_num=1, draw_img_save_dir='./inference_results', save_crop_res=False, crop_res_save_dir='./output', use_mp=False, total_process_num=1, process_id=0, benchmark=False, save_log_path='./log_output/', show_log=True, use_onnx=False, output='./output', table_max_len=488, table_algorithm='TableAttn', table_model_dir=None, merge_no_span_structure=True, table_char_dict_path=None, layout_model_dir=None, layout_dict_path=None, layout_score_threshold=0.5, layout_nms_threshold=0.5, kie_algorithm='LayoutXLM', ser_model_dir=None, re_model_dir=None, use_visual_backbone=True, ser_dict_path='../train_data/XFUND/class_list_xfun.txt', ocr_order_method=None, mode='structure', image_orientation=False, layout=True, table=True, ocr=True, recovery=False, use_pdf2docx_api=False, lang='en', det=True, rec=True, type='ocr', ocr_version='PP-OCRv3', structure_version='PP-StructureV2')\n",
      "[[[[663.0, 894.0], [713.0, 894.0], [713.0, 914.0], [663.0, 914.0]], [[121.0, 868.0], [141.0, 868.0], [141.0, 942.0], [121.0, 942.0]], [[191.0, 854.0], [210.0, 855.0], [207.0, 930.0], [189.0, 930.0]], [[260.0, 852.0], [278.0, 852.0], [278.0, 928.0], [260.0, 928.0]], [[430.0, 839.0], [449.0, 840.0], [446.0, 916.0], [427.0, 916.0]], [[561.0, 831.0], [597.0, 837.0], [583.0, 917.0], [546.0, 911.0]], [[521.0, 835.0], [540.0, 836.0], [533.0, 920.0], [513.0, 918.0]], [[341.0, 833.0], [359.0, 834.0], [357.0, 904.0], [338.0, 903.0]], [[434.0, 834.0], [443.0, 834.0], [443.0, 846.0], [434.0, 846.0]], [[607.0, 826.0], [622.0, 828.0], [610.0, 921.0], [595.0, 919.0]], [[101.0, 545.0], [131.0, 544.0], [139.0, 797.0], [109.0, 798.0]], [[345.0, 495.0], [376.0, 496.0], [365.0, 808.0], [335.0, 807.0]], [[730.0, 492.0], [764.0, 495.0], [747.0, 647.0], [714.0, 643.0]], [[185.0, 495.0], [212.0, 495.0], [212.0, 832.0], [185.0, 832.0]], [[255.0, 491.0], [285.0, 491.0], [279.0, 830.0], [250.0, 830.0]], [[695.0, 485.0], [732.0, 489.0], [706.0, 727.0], [669.0, 723.0]], [[441.0, 474.0], [475.0, 476.0], [452.0, 838.0], [418.0, 836.0]], [[262.0, 454.0], [287.0, 454.0], [287.0, 463.0], [262.0, 463.0]], [[120.0, 451.0], [130.0, 451.0], [130.0, 462.0], [120.0, 462.0]], [[356.0, 222.0], [379.0, 222.0], [374.0, 402.0], [351.0, 402.0]], [[460.0, 211.0], [485.0, 212.0], [474.0, 395.0], [449.0, 394.0]], [[264.0, 207.0], [287.0, 207.0], [281.0, 400.0], [258.0, 400.0]], [[626.0, 202.0], [660.0, 204.0], [656.0, 300.0], [621.0, 299.0]], [[728.0, 198.0], [757.0, 199.0], [752.0, 315.0], [723.0, 314.0]], [[189.0, 201.0], [211.0, 201.0], [211.0, 389.0], [189.0, 389.0]], [[94.0, 195.0], [120.0, 194.0], [126.0, 393.0], [100.0, 394.0]], [[582.0, 174.0], [617.0, 177.0], [605.0, 318.0], [570.0, 315.0]]]]\n"
     ]
    }
   ],
   "source": [
    "from paddleocr import PaddleOCR\n",
    "\n",
    "# Declare the PaddleOCR class\n",
    "ocr = PaddleOCR(use_angle_cls=True, lang='en')\n",
    "\n",
    "img_path ='Test Images/upright.jpeg'\n",
    "\n",
    "# Perform prediction\n",
    "result = ocr.ocr(img_path, rec=False)\n",
    "print(result)"
   ]
  },
  {
   "cell_type": "code",
   "execution_count": 76,
   "metadata": {},
   "outputs": [
    {
     "data": {
      "text/plain": [
       "True"
      ]
     },
     "execution_count": 76,
     "metadata": {},
     "output_type": "execute_result"
    }
   ],
   "source": [
    "import cv2\n",
    "import numpy as np\n",
    "\n",
    "# read image using opencv python\n",
    "image = cv2.imread('Test Images/upright.jpeg')\n",
    "\n",
    "for row in result[0]:\n",
    "    # conver float to integer\n",
    "    row = [[int(r[0]), int(r[1])] for r in row]\n",
    "    # Draw polyline on image\n",
    "    cv2.polylines(image, [np.array(row)], True, (255, 0, 0), 1)\n",
    "\n",
    "cv2.imwrite(\"out.jpg\", image)"
   ]
  }
 ],
 "metadata": {
  "kernelspec": {
   "display_name": "Python 3",
   "language": "python",
   "name": "python3"
  },
  "language_info": {
   "codemirror_mode": {
    "name": "ipython",
    "version": 3
   },
   "file_extension": ".py",
   "mimetype": "text/x-python",
   "name": "python",
   "nbconvert_exporter": "python",
   "pygments_lexer": "ipython3",
   "version": "3.10.9"
  },
  "orig_nbformat": 4
 },
 "nbformat": 4,
 "nbformat_minor": 2
}
